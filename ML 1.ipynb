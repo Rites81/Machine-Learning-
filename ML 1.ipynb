{
 "cells": [
  {
   "cell_type": "markdown",
   "id": "496960ca",
   "metadata": {},
   "source": [
    "1) Artificial Intelligence\n",
    "2) Machine learning\n",
    "3) Deep Learning"
   ]
  },
  {
   "cell_type": "markdown",
   "id": "a8a1b2b8",
   "metadata": {},
   "source": [
    "Artificial Intelligence \n",
    "\n",
    "It is process to development of computer system able to perform task normally required human intelligence, such as visual perception,speech recognition,decision making and translation between language.\n",
    "Ai is a smart application that can perform its own task without ant human intervention.\n"
   ]
  },
  {
   "cell_type": "markdown",
   "id": "84b583c0",
   "metadata": {},
   "source": [
    "Machine learning \n",
    "\n",
    "MI provides a machine the ability learn automatically and improve from experiment without being explicity programmed.\n",
    "A set of rules and statical technique used to learn pattern from data."
   ]
  },
  {
   "cell_type": "markdown",
   "id": "bb03f7b0",
   "metadata": {},
   "source": [
    "Deep Learning \n",
    "\n",
    "It is subset of machine learning.Learning is based on a very large volume of data sets and can include texts, images and video in addition to structure data."
   ]
  },
  {
   "cell_type": "markdown",
   "id": "75ee6b4f",
   "metadata": {},
   "source": [
    "2 .Supervised Learning\n",
    "\n",
    "Initial data set acts as a teacher to train the model predictions and action are based on this initial data set.\n",
    "It is a labelled data."
   ]
  },
  {
   "cell_type": "markdown",
   "id": "08d044a4",
   "metadata": {},
   "source": [
    "3. Unsupervised Learning\n",
    "System learn through observation and detect pattern in data. The system remodels itself based on data pattern.It is a unlabelled data."
   ]
  },
  {
   "cell_type": "code",
   "execution_count": 4,
   "id": "3fedf0b4",
   "metadata": {},
   "outputs": [
    {
     "name": "stdout",
     "output_type": "stream",
     "text": [
      "+++++++++++++++++++++++++++++++++++++++++++------------------++++++++++++++++++++++++++++++++++++++++++++++++++++\n"
     ]
    }
   ],
   "source": []
  },
  {
   "cell_type": "markdown",
   "id": "d2a65288",
   "metadata": {},
   "source": [
    "4.What is the difference between AI, ML, DL, and DS?\n",
    "\n",
    "it is process to development of computer system able to perform tasknormally required human intelligence, such as visual perception,speech recognition,decision making and translation between language. Ai is a smart application that can perform its own task without ant human intervention.\n",
    "\n",
    "MI provides a machine the ability learn automatically and improve from experiment without being explicity programmed. A set of rules and statical technique used to learn pattern from data.\n",
    "\n",
    "it is subset of machine learning.Learning is based on a very large volume of data sets and can include texts, images and video in addition to structure data.\n",
    "\n",
    "Data Science is the study of data to extract meaningful insight for bussiness.It is a combination of statics,Programming,AI,ML and Dl."
   ]
  },
  {
   "cell_type": "markdown",
   "id": "60d3191d",
   "metadata": {},
   "source": [
    "5.The main difference between supervised, unsupervised, and semi-supervised learning is a level of availability of ground truth data. Which is prior knowledge of what the output of the model should be for a given input."
   ]
  },
  {
   "cell_type": "markdown",
   "id": "ae2f7799",
   "metadata": {},
   "source": [
    "6). When building a machine learning model, the dataset is usually divided into three sets: training set, test set, and validation set.\n",
    "\n",
    "Training set:\n",
    "\n",
    "The training set is a subset of the overall dataset that is used to train the machine learning model. This is where the model is \"taught\" to identify patterns in the data, and it is used to build and refine the model's parameters. The training set should be large enough to ensure that the model can generalize well and learn meaningful patterns, but not too large that it will take too long to train the model.\n",
    "\n",
    "Test set:\n",
    "\n",
    "The test set is a subset of the overall dataset that is used to evaluate the performance of the model on data that it has not seen before. The test set should be representative of the data that the model will encounter in the real world, but it should be kept separate from the training set to ensure that the model is not overfitting to the data it has seen before.\n",
    "\n",
    "Validation set:\n",
    "\n",
    "Validation split helps to improve the model performance by fine-tuning the model after each epoch. The validation set is a separate section of your dataset that you will use during training to get a sense of how well your model is doing on images that are not being used in training."
   ]
  },
  {
   "cell_type": "markdown",
   "id": "0bf86389",
   "metadata": {},
   "source": [
    "7). Unsupervised learning can be used for anomaly detection by identifying patterns in data and then flagging any observations that are significantly different from those patterns. This can be achieved through various clustering algorithms (such as k-means, DBSCAN, etc.) or dimensionality reduction techniques (such as PCA, t-SNE, etc.) that can identify outliers in a dataset."
   ]
  },
  {
   "cell_type": "markdown",
   "id": "f92ac96a",
   "metadata": {},
   "source": [
    "8). Supervised Algorithums -  Support-vector machines.\n",
    "Linear regression.\n",
    "Logistic regression.\n",
    "Naive Bayes.\n",
    "Linear discriminant analysis.\n",
    "Decision trees.\n",
    "K-nearest neighbor algorithm.\n",
    "Neural networks\n",
    "\n",
    "\n",
    "\n",
    "Unsupervided Algorithums - K-means clustering.\n",
    "KNN (k-nearest neighbors)\n",
    "Hierarchal clustering.\n",
    "Anomaly detection.\n",
    "Neural Networks.\n",
    "Principle Component Analysis.\n",
    "Independent Component Analysis.\n",
    "Apriori algorithm"
   ]
  },
  {
   "cell_type": "code",
   "execution_count": null,
   "id": "dc280a0e",
   "metadata": {},
   "outputs": [],
   "source": []
  }
 ],
 "metadata": {
  "kernelspec": {
   "display_name": "Python 3 (ipykernel)",
   "language": "python",
   "name": "python3"
  },
  "language_info": {
   "codemirror_mode": {
    "name": "ipython",
    "version": 3
   },
   "file_extension": ".py",
   "mimetype": "text/x-python",
   "name": "python",
   "nbconvert_exporter": "python",
   "pygments_lexer": "ipython3",
   "version": "3.10.5"
  }
 },
 "nbformat": 4,
 "nbformat_minor": 5
}
